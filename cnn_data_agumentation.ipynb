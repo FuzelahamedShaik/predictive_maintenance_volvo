{
 "cells": [
  {
   "cell_type": "code",
   "execution_count": 128,
   "id": "37291c8e",
   "metadata": {},
   "outputs": [],
   "source": [
    "import pandas as pd\n",
    "import numpy as np\n",
    "from tensorflow.keras.models import Sequential, Model\n",
    "from tensorflow.keras.layers import Conv2D, MaxPooling2D, Flatten, Dense, Dropout\n",
    "from sklearn.metrics import classification_report, confusion_matrix\n",
    "from sklearn.preprocessing import StandardScaler, OneHotEncoder\n",
    "from tensorflow.keras.utils import to_categorical\n",
    "from xgboost import XGBClassifier\n",
    "from sklearn.ensemble import RandomForestClassifier\n",
    "from imblearn.over_sampling import KMeansSMOTE\n",
    "from sklearn.cluster import MiniBatchKMeans\n",
    "from imblearn.over_sampling import SVMSMOTE\n",
    "from sklearn.preprocessing import StandardScaler\n",
    "from sklearn.decomposition import PCA\n",
    "from sklearn.neighbors import KNeighborsClassifier"
   ]
  },
  {
   "cell_type": "code",
   "execution_count": 2,
   "id": "4e137530",
   "metadata": {},
   "outputs": [
    {
     "data": {
      "text/html": [
       "<div>\n",
       "<style scoped>\n",
       "    .dataframe tbody tr th:only-of-type {\n",
       "        vertical-align: middle;\n",
       "    }\n",
       "\n",
       "    .dataframe tbody tr th {\n",
       "        vertical-align: top;\n",
       "    }\n",
       "\n",
       "    .dataframe thead th {\n",
       "        text-align: right;\n",
       "    }\n",
       "</style>\n",
       "<table border=\"1\" class=\"dataframe\">\n",
       "  <thead>\n",
       "    <tr style=\"text-align: right;\">\n",
       "      <th></th>\n",
       "      <th>Timesteps</th>\n",
       "      <th>ChassisId_encoded</th>\n",
       "      <th>af1__0</th>\n",
       "      <th>af1__1</th>\n",
       "      <th>af1__2</th>\n",
       "      <th>af1__3</th>\n",
       "      <th>af1__4</th>\n",
       "      <th>af1__5</th>\n",
       "      <th>af1__6</th>\n",
       "      <th>af1__7</th>\n",
       "      <th>...</th>\n",
       "      <th>f__239</th>\n",
       "      <th>f__240</th>\n",
       "      <th>f__241</th>\n",
       "      <th>f__242</th>\n",
       "      <th>RUL</th>\n",
       "      <th>risk_level_High</th>\n",
       "      <th>risk_level_Low</th>\n",
       "      <th>risk_level_Medium</th>\n",
       "      <th>f__22</th>\n",
       "      <th>af2__3</th>\n",
       "    </tr>\n",
       "  </thead>\n",
       "  <tbody>\n",
       "    <tr>\n",
       "      <th>0</th>\n",
       "      <td>0.0</td>\n",
       "      <td>4953.0</td>\n",
       "      <td>0.000000</td>\n",
       "      <td>0.00000</td>\n",
       "      <td>0.000000</td>\n",
       "      <td>0.000000e+00</td>\n",
       "      <td>0.000000</td>\n",
       "      <td>0.000000</td>\n",
       "      <td>0.000000</td>\n",
       "      <td>0.000000</td>\n",
       "      <td>...</td>\n",
       "      <td>-0.495562</td>\n",
       "      <td>-0.928794</td>\n",
       "      <td>-0.214402</td>\n",
       "      <td>-0.090670</td>\n",
       "      <td>0.0</td>\n",
       "      <td>1</td>\n",
       "      <td>0</td>\n",
       "      <td>0</td>\n",
       "      <td>-0.009128</td>\n",
       "      <td>0</td>\n",
       "    </tr>\n",
       "    <tr>\n",
       "      <th>1</th>\n",
       "      <td>0.0</td>\n",
       "      <td>4955.0</td>\n",
       "      <td>0.000322</td>\n",
       "      <td>0.00002</td>\n",
       "      <td>0.057749</td>\n",
       "      <td>8.627059e-08</td>\n",
       "      <td>0.029966</td>\n",
       "      <td>0.030469</td>\n",
       "      <td>0.019837</td>\n",
       "      <td>0.000113</td>\n",
       "      <td>...</td>\n",
       "      <td>-0.484087</td>\n",
       "      <td>0.320285</td>\n",
       "      <td>2.311401</td>\n",
       "      <td>-0.026043</td>\n",
       "      <td>28.0</td>\n",
       "      <td>0</td>\n",
       "      <td>1</td>\n",
       "      <td>0</td>\n",
       "      <td>-0.009128</td>\n",
       "      <td>0</td>\n",
       "    </tr>\n",
       "    <tr>\n",
       "      <th>2</th>\n",
       "      <td>1.0</td>\n",
       "      <td>4955.0</td>\n",
       "      <td>0.000322</td>\n",
       "      <td>0.00002</td>\n",
       "      <td>0.057749</td>\n",
       "      <td>8.627059e-08</td>\n",
       "      <td>0.029966</td>\n",
       "      <td>0.030469</td>\n",
       "      <td>0.019837</td>\n",
       "      <td>0.000113</td>\n",
       "      <td>...</td>\n",
       "      <td>-0.472325</td>\n",
       "      <td>0.322941</td>\n",
       "      <td>2.284491</td>\n",
       "      <td>-0.026732</td>\n",
       "      <td>27.0</td>\n",
       "      <td>0</td>\n",
       "      <td>1</td>\n",
       "      <td>0</td>\n",
       "      <td>-0.009128</td>\n",
       "      <td>0</td>\n",
       "    </tr>\n",
       "    <tr>\n",
       "      <th>3</th>\n",
       "      <td>2.0</td>\n",
       "      <td>4955.0</td>\n",
       "      <td>0.000322</td>\n",
       "      <td>0.00002</td>\n",
       "      <td>0.057749</td>\n",
       "      <td>8.627059e-08</td>\n",
       "      <td>0.029966</td>\n",
       "      <td>0.030469</td>\n",
       "      <td>0.019837</td>\n",
       "      <td>0.000113</td>\n",
       "      <td>...</td>\n",
       "      <td>-0.509273</td>\n",
       "      <td>0.306841</td>\n",
       "      <td>2.266275</td>\n",
       "      <td>-0.027429</td>\n",
       "      <td>26.0</td>\n",
       "      <td>0</td>\n",
       "      <td>1</td>\n",
       "      <td>0</td>\n",
       "      <td>-0.009128</td>\n",
       "      <td>0</td>\n",
       "    </tr>\n",
       "    <tr>\n",
       "      <th>4</th>\n",
       "      <td>3.0</td>\n",
       "      <td>4955.0</td>\n",
       "      <td>0.000322</td>\n",
       "      <td>0.00002</td>\n",
       "      <td>0.057749</td>\n",
       "      <td>8.627059e-08</td>\n",
       "      <td>0.029966</td>\n",
       "      <td>0.030469</td>\n",
       "      <td>0.019837</td>\n",
       "      <td>0.000113</td>\n",
       "      <td>...</td>\n",
       "      <td>-0.513796</td>\n",
       "      <td>0.309057</td>\n",
       "      <td>2.237995</td>\n",
       "      <td>-0.028150</td>\n",
       "      <td>25.0</td>\n",
       "      <td>0</td>\n",
       "      <td>1</td>\n",
       "      <td>0</td>\n",
       "      <td>-0.009128</td>\n",
       "      <td>0</td>\n",
       "    </tr>\n",
       "  </tbody>\n",
       "</table>\n",
       "<p>5 rows × 294 columns</p>\n",
       "</div>"
      ],
      "text/plain": [
       "   Timesteps  ChassisId_encoded    af1__0   af1__1    af1__2        af1__3  \\\n",
       "0        0.0             4953.0  0.000000  0.00000  0.000000  0.000000e+00   \n",
       "1        0.0             4955.0  0.000322  0.00002  0.057749  8.627059e-08   \n",
       "2        1.0             4955.0  0.000322  0.00002  0.057749  8.627059e-08   \n",
       "3        2.0             4955.0  0.000322  0.00002  0.057749  8.627059e-08   \n",
       "4        3.0             4955.0  0.000322  0.00002  0.057749  8.627059e-08   \n",
       "\n",
       "     af1__4    af1__5    af1__6    af1__7  ...    f__239    f__240    f__241  \\\n",
       "0  0.000000  0.000000  0.000000  0.000000  ... -0.495562 -0.928794 -0.214402   \n",
       "1  0.029966  0.030469  0.019837  0.000113  ... -0.484087  0.320285  2.311401   \n",
       "2  0.029966  0.030469  0.019837  0.000113  ... -0.472325  0.322941  2.284491   \n",
       "3  0.029966  0.030469  0.019837  0.000113  ... -0.509273  0.306841  2.266275   \n",
       "4  0.029966  0.030469  0.019837  0.000113  ... -0.513796  0.309057  2.237995   \n",
       "\n",
       "     f__242   RUL  risk_level_High  risk_level_Low  risk_level_Medium  \\\n",
       "0 -0.090670   0.0                1               0                  0   \n",
       "1 -0.026043  28.0                0               1                  0   \n",
       "2 -0.026732  27.0                0               1                  0   \n",
       "3 -0.027429  26.0                0               1                  0   \n",
       "4 -0.028150  25.0                0               1                  0   \n",
       "\n",
       "      f__22  af2__3  \n",
       "0 -0.009128       0  \n",
       "1 -0.009128       0  \n",
       "2 -0.009128       0  \n",
       "3 -0.009128       0  \n",
       "4 -0.009128       0  \n",
       "\n",
       "[5 rows x 294 columns]"
      ]
     },
     "execution_count": 2,
     "metadata": {},
     "output_type": "execute_result"
    }
   ],
   "source": [
    "df_train = pd.read_csv('training_set.csv')\n",
    "df_train.head()"
   ]
  },
  {
   "cell_type": "code",
   "execution_count": 3,
   "id": "60596bda",
   "metadata": {},
   "outputs": [],
   "source": [
    "X = df_train.drop(['Timesteps', 'ChassisId_encoded', 'risk_level_High', 'risk_level_Low', 'risk_level_Medium'], axis=1)"
   ]
  },
  {
   "cell_type": "code",
   "execution_count": 4,
   "id": "610219cd",
   "metadata": {},
   "outputs": [
    {
     "data": {
      "text/plain": [
       "(157379, 289)"
      ]
     },
     "execution_count": 4,
     "metadata": {},
     "output_type": "execute_result"
    }
   ],
   "source": [
    "X.shape"
   ]
  },
  {
   "cell_type": "code",
   "execution_count": 5,
   "id": "795ef796",
   "metadata": {},
   "outputs": [],
   "source": [
    "y = df_train[['risk_level_High', 'risk_level_Low', 'risk_level_Medium']]"
   ]
  },
  {
   "cell_type": "code",
   "execution_count": 6,
   "id": "d15ee92a",
   "metadata": {},
   "outputs": [],
   "source": [
    "y_int = np.argmax(y.values, axis=1)"
   ]
  },
  {
   "cell_type": "code",
   "execution_count": 7,
   "id": "1f0f9d3f",
   "metadata": {},
   "outputs": [],
   "source": [
    "y_int = pd.Series(y_int)"
   ]
  },
  {
   "cell_type": "code",
   "execution_count": 81,
   "id": "af5411c4",
   "metadata": {},
   "outputs": [],
   "source": [
    "class_distribution = y_int.value_counts()"
   ]
  },
  {
   "cell_type": "code",
   "execution_count": 82,
   "id": "fb95cb93",
   "metadata": {},
   "outputs": [
    {
     "data": {
      "text/plain": [
       "1    143384\n",
       "0      8356\n",
       "2      5639\n",
       "dtype: int64"
      ]
     },
     "execution_count": 82,
     "metadata": {},
     "output_type": "execute_result"
    }
   ],
   "source": [
    "class_distribution"
   ]
  },
  {
   "cell_type": "code",
   "execution_count": 77,
   "id": "3e45fad5",
   "metadata": {},
   "outputs": [],
   "source": [
    "from sklearn.model_selection import train_test_split\n",
    "X_train, X_test, y_train, y_test = train_test_split(X, y_int, test_size=0.33, shuffle=True)"
   ]
  },
  {
   "cell_type": "code",
   "execution_count": 78,
   "id": "d562f4e3",
   "metadata": {},
   "outputs": [
    {
     "data": {
      "text/plain": [
       "(105443, 289)"
      ]
     },
     "execution_count": 78,
     "metadata": {},
     "output_type": "execute_result"
    }
   ],
   "source": [
    "X_train.shape"
   ]
  },
  {
   "cell_type": "code",
   "execution_count": 79,
   "id": "3dc29a39",
   "metadata": {},
   "outputs": [
    {
     "data": {
      "text/plain": [
       "(105443,)"
      ]
     },
     "execution_count": 79,
     "metadata": {},
     "output_type": "execute_result"
    }
   ],
   "source": [
    "y_train.shape"
   ]
  },
  {
   "cell_type": "code",
   "execution_count": 83,
   "id": "694b2886",
   "metadata": {},
   "outputs": [
    {
     "name": "stdout",
     "output_type": "stream",
     "text": [
      "Int64Index([0, 2], dtype='int64')\n",
      "1\n"
     ]
    }
   ],
   "source": [
    "minority_classes = class_distribution[class_distribution < class_distribution.max()].index\n",
    "majority_class = class_distribution.idxmax()\n",
    "\n",
    "print(minority_classes) \n",
    "print(majority_class) "
   ]
  },
  {
   "cell_type": "code",
   "execution_count": 84,
   "id": "6e916202",
   "metadata": {},
   "outputs": [],
   "source": [
    "def upsample(X_train, y_train):    \n",
    "\n",
    "    resampled_X_train = X_train.copy()\n",
    "    resampled_y_train = y_train.copy()\n",
    "\n",
    "    for minority_class in minority_classes:\n",
    "        minority_samples = X_train[y_train == minority_class] \n",
    "        oversampled_minority_samples = minority_samples.sample(n=class_distribution.max(), replace=True, random_state=42)\n",
    "        resampled_X_train = pd.concat([resampled_X_train, oversampled_minority_samples])\n",
    "        resampled_y_train = pd.concat([resampled_y_train, pd.Series([minority_class] * class_distribution.max())])\n",
    "    \n",
    "    return resampled_X_train, resampled_y_train"
   ]
  },
  {
   "cell_type": "code",
   "execution_count": 85,
   "id": "f3c46f04",
   "metadata": {},
   "outputs": [],
   "source": [
    "resampled_X_train, resampled_y_train = upsample(X_train,  y_train)"
   ]
  },
  {
   "cell_type": "code",
   "execution_count": 16,
   "id": "bd32744b",
   "metadata": {},
   "outputs": [
    {
     "data": {
      "text/plain": [
       "(392211,)"
      ]
     },
     "execution_count": 16,
     "metadata": {},
     "output_type": "execute_result"
    }
   ],
   "source": [
    "resampled_y_train.shape"
   ]
  },
  {
   "cell_type": "code",
   "execution_count": 20,
   "id": "ebc6a89a",
   "metadata": {},
   "outputs": [
    {
     "name": "stdout",
     "output_type": "stream",
     "text": [
      "Model: \"sequential_3\"\n",
      "_________________________________________________________________\n",
      " Layer (type)                Output Shape              Param #   \n",
      "=================================================================\n",
      " conv2d_6 (Conv2D)           (None, 15, 15, 32)        320       \n",
      "                                                                 \n",
      " max_pooling2d_6 (MaxPooling  (None, 7, 7, 32)         0         \n",
      " 2D)                                                             \n",
      "                                                                 \n",
      " dropout_6 (Dropout)         (None, 7, 7, 32)          0         \n",
      "                                                                 \n",
      " conv2d_7 (Conv2D)           (None, 5, 5, 64)          18496     \n",
      "                                                                 \n",
      " max_pooling2d_7 (MaxPooling  (None, 2, 2, 64)         0         \n",
      " 2D)                                                             \n",
      "                                                                 \n",
      " dropout_7 (Dropout)         (None, 2, 2, 64)          0         \n",
      "                                                                 \n",
      " flatten_3 (Flatten)         (None, 256)               0         \n",
      "                                                                 \n",
      " dense_3 (Dense)             (None, 64)                16448     \n",
      "                                                                 \n",
      "=================================================================\n",
      "Total params: 35,264\n",
      "Trainable params: 35,264\n",
      "Non-trainable params: 0\n",
      "_________________________________________________________________\n"
     ]
    }
   ],
   "source": [
    "input_shape = (17, 17, 1)\n",
    "\n",
    "model = Sequential()\n",
    "model.add(Conv2D(32, (3, 3), activation='relu', input_shape=input_shape))\n",
    "model.add(MaxPooling2D((2, 2)))\n",
    "model.add(Dropout(0.25))\n",
    "\n",
    "model.add(Conv2D(64, (3, 3), activation='relu'))\n",
    "model.add(MaxPooling2D((2, 2)))\n",
    "model.add(Dropout(0.25))\n",
    "\n",
    "model.add(Flatten())\n",
    "\n",
    "model.add(Dense(64, activation='relu')) \n",
    "\n",
    "feature_extractor = Model(inputs=model.input, outputs=model.get_layer('dense_3').output)\n",
    "\n",
    "model.summary()"
   ]
  },
  {
   "cell_type": "code",
   "execution_count": 54,
   "id": "e31aa7a4",
   "metadata": {},
   "outputs": [
    {
     "name": "stdout",
     "output_type": "stream",
     "text": [
      "12257/12257 [==============================] - 43s 3ms/step\n"
     ]
    }
   ],
   "source": [
    "X_train_reshaped = resampled_X_train.values.reshape((resampled_X_train.shape[0], 17, 17, 1))\n",
    "\n",
    "X_train_features = feature_extractor.predict(X_train_reshaped)"
   ]
  },
  {
   "cell_type": "code",
   "execution_count": 43,
   "id": "37930e18",
   "metadata": {},
   "outputs": [
    {
     "data": {
      "text/plain": [
       "(392211, 64)"
      ]
     },
     "execution_count": 43,
     "metadata": {},
     "output_type": "execute_result"
    }
   ],
   "source": [
    "X_train_features.shape"
   ]
  },
  {
   "cell_type": "code",
   "execution_count": 23,
   "id": "0c5bef7e",
   "metadata": {},
   "outputs": [
    {
     "name": "stdout",
     "output_type": "stream",
     "text": [
      "1623/1623 [==============================] - 6s 4ms/step\n"
     ]
    }
   ],
   "source": [
    "X_test_reshaped = X_test.values.reshape((X_test.shape[0], 17, 17, 1))\n",
    "\n",
    "X_test_features = feature_extractor.predict(X_test_reshaped)"
   ]
  },
  {
   "cell_type": "code",
   "execution_count": 44,
   "id": "c5863170",
   "metadata": {},
   "outputs": [
    {
     "name": "stderr",
     "output_type": "stream",
     "text": [
      "C:\\Users\\Fuzel Shaik\\anaconda3\\lib\\site-packages\\xgboost\\core.py:160: UserWarning: [16:09:42] WARNING: C:\\buildkite-agent\\builds\\buildkite-windows-cpu-autoscaling-group-i-0b3782d1791676daf-1\\xgboost\\xgboost-ci-windows\\src\\learner.cc:742: \n",
      "Parameters: { \"verbose\" } are not used.\n",
      "\n",
      "  warnings.warn(smsg, UserWarning)\n"
     ]
    },
    {
     "data": {
      "text/plain": [
       "XGBClassifier(base_score=None, booster=None, callbacks=None,\n",
       "              colsample_bylevel=None, colsample_bynode=None,\n",
       "              colsample_bytree=None, device=None, early_stopping_rounds=None,\n",
       "              enable_categorical=False, eval_metric=None, feature_types=None,\n",
       "              gamma=None, grow_policy=None, importance_type=None,\n",
       "              interaction_constraints=None, learning_rate=0.1, max_bin=None,\n",
       "              max_cat_threshold=None, max_cat_to_onehot=None,\n",
       "              max_delta_step=None, max_depth=4, max_leaves=None,\n",
       "              min_child_weight=None, missing=nan, monotone_constraints=None,\n",
       "              multi_strategy=None, n_estimators=100, n_jobs=-1,\n",
       "              num_parallel_tree=None, objective='multi:softprob', ...)"
      ]
     },
     "execution_count": 44,
     "metadata": {},
     "output_type": "execute_result"
    }
   ],
   "source": [
    "xgb_model_ups = XGBClassifier(max_depth=4, n_estimators=100, n_jobs=-1, verbose=2, learning_rate=0.1)\n",
    "xgb_model_ups.fit(X_train_features, resampled_y_train)  "
   ]
  },
  {
   "cell_type": "code",
   "execution_count": 45,
   "id": "aecdcdfc",
   "metadata": {},
   "outputs": [
    {
     "name": "stdout",
     "output_type": "stream",
     "text": [
      "XGBoost Classification Report:\n",
      "              precision    recall  f1-score   support\n",
      "\n",
      "           0       0.40      0.70      0.51      2768\n",
      "           1       0.99      0.86      0.92     47285\n",
      "           2       0.18      0.59      0.28      1883\n",
      "\n",
      "    accuracy                           0.84     51936\n",
      "   macro avg       0.53      0.72      0.57     51936\n",
      "weighted avg       0.93      0.84      0.88     51936\n",
      "\n",
      "XGBoost Confusion Matrix:\n",
      "[[ 1936   101   731]\n",
      " [ 2304 40725  4256]\n",
      " [  612   156  1115]]\n"
     ]
    }
   ],
   "source": [
    "xgb_predictions_ups = xgb_model_ups.predict(X_test_features)\n",
    "\n",
    "print(\"XGBoost Classification Report:\")\n",
    "print(classification_report(y_test, xgb_predictions_ups))\n",
    "print(\"XGBoost Confusion Matrix:\")\n",
    "print(confusion_matrix(y_test, xgb_predictions_ups))"
   ]
  },
  {
   "cell_type": "code",
   "execution_count": 106,
   "id": "2b5ff655",
   "metadata": {},
   "outputs": [],
   "source": [
    "X_test_sub = pd.read_csv('public_X_test.csv')\n",
    "\n",
    "rul_test = pd.DataFrame(X_test_sub.groupby('ChassisId_encoded')['Timesteps'].max()).reset_index()\n",
    "rul_test.columns = ['ChassisId_encoded', 'max']\n",
    "X_test_sub = X_test_sub.merge(rul_test, on=['ChassisId_encoded'], how='left')\n",
    "X_test_sub['RUL'] = X_test_sub['max'] - X_test_sub['Timesteps']\n",
    "\n",
    "remove_cols = X_test_sub.columns.difference(['Timesteps','ChassisId_encoded', 'max', 'gen', 'af2__5', 'af2__6', 'af2__13', 'af2__19', 'af2__20', 'af2__22', 'af2__18', 'af2__9', 'af1__28', 'f__51','f__52','f__65','f__117','f__119','f__123','f__133'])\n",
    "\n",
    "X_test_sub = X_test_sub[remove_cols]\n",
    "\n",
    "input_shape = (17, 17, 1) \n",
    "X_test_sub = X_test_sub.values.reshape(-1, *input_shape)\n",
    "\n",
    "X_test_sub_flattened = feature_extractor.predict(X_test_sub)"
   ]
  },
  {
   "cell_type": "code",
   "execution_count": 46,
   "id": "dd827af9",
   "metadata": {},
   "outputs": [
    {
     "name": "stdout",
     "output_type": "stream",
     "text": [
      "Low       27331\n",
      "Medium     3313\n",
      "High       2946\n",
      "Name: pred, dtype: int64\n"
     ]
    }
   ],
   "source": [
    "x_test_sub_predicted_classes = xgb_model_ups.predict(X_test_sub_flattened)\n",
    "\n",
    "predictions = pd.DataFrame()\n",
    "predictions['pred'] = x_test_sub_predicted_classes.ravel()\n",
    "\n",
    "predictions['pred'] = predictions['pred'].replace({0: 'High', 1: 'Low', 2: 'Medium'})\n",
    "\n",
    "print(predictions['pred'].value_counts())"
   ]
  },
  {
   "cell_type": "code",
   "execution_count": 47,
   "id": "521f86cf",
   "metadata": {},
   "outputs": [],
   "source": [
    "predictions.to_csv('prediction.csv',index=False)"
   ]
  },
  {
   "cell_type": "code",
   "execution_count": 28,
   "id": "bbef46a9",
   "metadata": {},
   "outputs": [
    {
     "name": "stderr",
     "output_type": "stream",
     "text": [
      "C:\\Users\\Fuzel Shaik\\anaconda3\\lib\\site-packages\\sklearn\\cluster\\_kmeans.py:1043: UserWarning: MiniBatchKMeans is known to have a memory leak on Windows with MKL, when there are less chunks than available threads. You can prevent it by setting batch_size >= 4096 or by setting the environment variable OMP_NUM_THREADS=4\n",
      "  warnings.warn(\n",
      "C:\\Users\\Fuzel Shaik\\anaconda3\\lib\\site-packages\\sklearn\\cluster\\_kmeans.py:1043: UserWarning: MiniBatchKMeans is known to have a memory leak on Windows with MKL, when there are less chunks than available threads. You can prevent it by setting batch_size >= 4096 or by setting the environment variable OMP_NUM_THREADS=4\n",
      "  warnings.warn(\n"
     ]
    }
   ],
   "source": [
    "sm = KMeansSMOTE(kmeans_estimator=MiniBatchKMeans(n_init=1, random_state=0), random_state=42, k_neighbors=5, cluster_balance_threshold=0.01)\n",
    "\n",
    "X_res_kmeans_smote, y_res_kmeans_smote = sm.fit_resample(X_train, y_train)"
   ]
  },
  {
   "cell_type": "code",
   "execution_count": 29,
   "id": "37b5095f",
   "metadata": {},
   "outputs": [
    {
     "name": "stdout",
     "output_type": "stream",
     "text": [
      "9010/9010 [==============================] - 31s 3ms/step\n"
     ]
    }
   ],
   "source": [
    "X_train_reshaped = X_res_kmeans_smote.values.reshape((X_res_kmeans_smote.shape[0], 17, 17, 1))\n",
    "\n",
    "X_train_features = feature_extractor.predict(X_train_reshaped)"
   ]
  },
  {
   "cell_type": "code",
   "execution_count": 30,
   "id": "452de00b",
   "metadata": {},
   "outputs": [
    {
     "data": {
      "text/plain": [
       "(288304,)"
      ]
     },
     "execution_count": 30,
     "metadata": {},
     "output_type": "execute_result"
    }
   ],
   "source": [
    "y_res_kmeans_smote.shape"
   ]
  },
  {
   "cell_type": "code",
   "execution_count": 31,
   "id": "b9c6e38a",
   "metadata": {},
   "outputs": [
    {
     "data": {
      "text/plain": [
       "(288304, 64)"
      ]
     },
     "execution_count": 31,
     "metadata": {},
     "output_type": "execute_result"
    }
   ],
   "source": [
    "X_train_features.shape"
   ]
  },
  {
   "cell_type": "code",
   "execution_count": 32,
   "id": "441d6d84",
   "metadata": {},
   "outputs": [
    {
     "name": "stdout",
     "output_type": "stream",
     "text": [
      "Epoch 1/50\n",
      "1510/1510 [==============================] - 7s 4ms/step - loss: 0.2472 - accuracy: 0.9327 - val_loss: 3.4381 - val_accuracy: 0.0292\n",
      "Epoch 2/50\n",
      "1510/1510 [==============================] - 6s 4ms/step - loss: 0.1713 - accuracy: 0.9597 - val_loss: 3.4397 - val_accuracy: 0.0293\n",
      "Epoch 3/50\n",
      "1510/1510 [==============================] - 5s 4ms/step - loss: 0.1590 - accuracy: 0.9634 - val_loss: 3.3786 - val_accuracy: 0.0293\n",
      "Epoch 4/50\n",
      "1510/1510 [==============================] - 5s 3ms/step - loss: 0.1517 - accuracy: 0.9651 - val_loss: 3.3703 - val_accuracy: 0.0294\n",
      "Epoch 5/50\n",
      "1510/1510 [==============================] - 5s 3ms/step - loss: 0.1464 - accuracy: 0.9663 - val_loss: 3.4093 - val_accuracy: 0.0293\n",
      "Epoch 6/50\n",
      "1510/1510 [==============================] - 5s 4ms/step - loss: 0.1431 - accuracy: 0.9669 - val_loss: 3.2585 - val_accuracy: 0.0294\n",
      "Epoch 7/50\n",
      "1510/1510 [==============================] - 6s 4ms/step - loss: 0.1413 - accuracy: 0.9671 - val_loss: 3.3376 - val_accuracy: 0.0294\n",
      "Epoch 8/50\n",
      "1510/1510 [==============================] - 6s 4ms/step - loss: 0.1391 - accuracy: 0.9676 - val_loss: 3.5478 - val_accuracy: 0.0293\n",
      "Epoch 9/50\n",
      "1510/1510 [==============================] - 5s 4ms/step - loss: 0.1365 - accuracy: 0.9681 - val_loss: 3.4237 - val_accuracy: 0.0294\n",
      "Epoch 10/50\n",
      "1510/1510 [==============================] - 6s 4ms/step - loss: 0.1349 - accuracy: 0.9684 - val_loss: 3.2973 - val_accuracy: 0.0293\n",
      "Epoch 11/50\n",
      "1510/1510 [==============================] - 6s 4ms/step - loss: 0.1334 - accuracy: 0.9684 - val_loss: 3.1926 - val_accuracy: 0.0293\n",
      "Epoch 12/50\n",
      "1510/1510 [==============================] - 6s 4ms/step - loss: 0.1324 - accuracy: 0.9686 - val_loss: 3.2098 - val_accuracy: 0.0294\n",
      "Epoch 13/50\n",
      "1510/1510 [==============================] - 7s 4ms/step - loss: 0.1315 - accuracy: 0.9688 - val_loss: 3.3729 - val_accuracy: 0.0293\n",
      "Epoch 14/50\n",
      "1510/1510 [==============================] - 6s 4ms/step - loss: 0.1303 - accuracy: 0.9690 - val_loss: 3.2136 - val_accuracy: 0.0294\n",
      "Epoch 15/50\n",
      "1510/1510 [==============================] - 6s 4ms/step - loss: 0.1291 - accuracy: 0.9691 - val_loss: 3.3441 - val_accuracy: 0.0294\n",
      "Epoch 16/50\n",
      "1510/1510 [==============================] - 6s 4ms/step - loss: 0.1278 - accuracy: 0.9694 - val_loss: 3.2253 - val_accuracy: 0.0293\n",
      "Epoch 17/50\n",
      "1510/1510 [==============================] - 6s 4ms/step - loss: 0.1279 - accuracy: 0.9692 - val_loss: 3.3228 - val_accuracy: 0.0294\n",
      "Epoch 18/50\n",
      "1510/1510 [==============================] - 6s 4ms/step - loss: 0.1278 - accuracy: 0.9692 - val_loss: 3.2636 - val_accuracy: 0.0294\n",
      "Epoch 19/50\n",
      "1510/1510 [==============================] - 6s 4ms/step - loss: 0.1254 - accuracy: 0.9697 - val_loss: 3.2522 - val_accuracy: 0.0294\n",
      "Epoch 20/50\n",
      "1510/1510 [==============================] - 6s 4ms/step - loss: 0.1253 - accuracy: 0.9694 - val_loss: 3.1780 - val_accuracy: 0.0294\n",
      "Epoch 21/50\n",
      "1510/1510 [==============================] - 6s 4ms/step - loss: 0.1249 - accuracy: 0.9697 - val_loss: 3.3019 - val_accuracy: 0.0294\n",
      "Epoch 22/50\n",
      "1510/1510 [==============================] - 6s 4ms/step - loss: 0.1239 - accuracy: 0.9696 - val_loss: 3.3844 - val_accuracy: 0.0294\n",
      "Epoch 23/50\n",
      "1510/1510 [==============================] - 6s 4ms/step - loss: 0.1232 - accuracy: 0.9699 - val_loss: 3.0972 - val_accuracy: 0.0294\n",
      "Epoch 24/50\n",
      "1510/1510 [==============================] - 6s 4ms/step - loss: 0.1232 - accuracy: 0.9699 - val_loss: 3.1171 - val_accuracy: 0.0295\n",
      "Epoch 25/50\n",
      "1510/1510 [==============================] - 6s 4ms/step - loss: 0.1225 - accuracy: 0.9700 - val_loss: 3.1638 - val_accuracy: 0.0294\n",
      "Epoch 26/50\n",
      "1510/1510 [==============================] - 6s 4ms/step - loss: 0.1220 - accuracy: 0.9700 - val_loss: 2.9614 - val_accuracy: 0.0297\n",
      "Epoch 27/50\n",
      "1510/1510 [==============================] - 6s 4ms/step - loss: 0.1219 - accuracy: 0.9700 - val_loss: 2.9417 - val_accuracy: 0.0297\n",
      "Epoch 28/50\n",
      "1510/1510 [==============================] - 6s 4ms/step - loss: 0.1212 - accuracy: 0.9702 - val_loss: 3.2384 - val_accuracy: 0.0295\n",
      "Epoch 29/50\n",
      "1510/1510 [==============================] - 6s 4ms/step - loss: 0.1199 - accuracy: 0.9703 - val_loss: 3.1247 - val_accuracy: 0.0298\n",
      "Epoch 30/50\n",
      "1510/1510 [==============================] - 6s 4ms/step - loss: 0.1202 - accuracy: 0.9702 - val_loss: 3.1394 - val_accuracy: 0.0300\n",
      "Epoch 31/50\n",
      "1510/1510 [==============================] - 6s 4ms/step - loss: 0.1193 - accuracy: 0.9704 - val_loss: 3.2843 - val_accuracy: 0.0305\n",
      "Epoch 32/50\n",
      "1510/1510 [==============================] - 6s 4ms/step - loss: 0.1204 - accuracy: 0.9700 - val_loss: 3.0554 - val_accuracy: 0.0328\n",
      "Epoch 33/50\n",
      "1510/1510 [==============================] - 6s 4ms/step - loss: 0.1183 - accuracy: 0.9704 - val_loss: 3.0458 - val_accuracy: 0.0309\n",
      "Epoch 34/50\n",
      "1510/1510 [==============================] - 6s 4ms/step - loss: 0.1187 - accuracy: 0.9703 - val_loss: 3.1597 - val_accuracy: 0.0319\n",
      "Epoch 35/50\n",
      "1510/1510 [==============================] - 6s 4ms/step - loss: 0.1186 - accuracy: 0.9704 - val_loss: 3.0557 - val_accuracy: 0.0329\n",
      "Epoch 36/50\n",
      "1510/1510 [==============================] - 6s 4ms/step - loss: 0.1178 - accuracy: 0.9706 - val_loss: 2.8846 - val_accuracy: 0.0340\n",
      "Epoch 37/50\n",
      "1510/1510 [==============================] - 6s 4ms/step - loss: 0.1177 - accuracy: 0.9705 - val_loss: 3.1314 - val_accuracy: 0.0341\n",
      "Epoch 38/50\n",
      "1510/1510 [==============================] - 6s 4ms/step - loss: 0.1185 - accuracy: 0.9703 - val_loss: 2.9690 - val_accuracy: 0.0403\n",
      "Epoch 39/50\n",
      "1510/1510 [==============================] - 6s 4ms/step - loss: 0.1165 - accuracy: 0.9707 - val_loss: 2.9867 - val_accuracy: 0.0347\n",
      "Epoch 40/50\n",
      "1510/1510 [==============================] - 6s 4ms/step - loss: 0.1170 - accuracy: 0.9708 - val_loss: 3.2272 - val_accuracy: 0.0337\n",
      "Epoch 41/50\n",
      "1510/1510 [==============================] - 6s 4ms/step - loss: 0.1159 - accuracy: 0.9709 - val_loss: 2.7881 - val_accuracy: 0.0396\n",
      "Epoch 42/50\n",
      "1510/1510 [==============================] - 6s 4ms/step - loss: 0.1155 - accuracy: 0.9708 - val_loss: 3.0325 - val_accuracy: 0.0427\n",
      "Epoch 43/50\n",
      "1510/1510 [==============================] - 6s 4ms/step - loss: 0.1162 - accuracy: 0.9706 - val_loss: 2.8307 - val_accuracy: 0.0362\n",
      "Epoch 44/50\n",
      "1510/1510 [==============================] - 6s 4ms/step - loss: 0.1161 - accuracy: 0.9708 - val_loss: 2.9681 - val_accuracy: 0.0377\n",
      "Epoch 45/50\n",
      "1510/1510 [==============================] - 6s 4ms/step - loss: 0.1153 - accuracy: 0.9708 - val_loss: 3.1241 - val_accuracy: 0.0427\n",
      "Epoch 46/50\n",
      "1510/1510 [==============================] - 6s 4ms/step - loss: 0.1147 - accuracy: 0.9708 - val_loss: 3.0238 - val_accuracy: 0.0374\n",
      "Epoch 47/50\n",
      "1510/1510 [==============================] - 6s 4ms/step - loss: 0.1139 - accuracy: 0.9707 - val_loss: 2.9848 - val_accuracy: 0.0449\n",
      "Epoch 48/50\n",
      "1510/1510 [==============================] - 6s 4ms/step - loss: 0.1145 - accuracy: 0.9706 - val_loss: 2.9301 - val_accuracy: 0.0485\n",
      "Epoch 49/50\n",
      "1510/1510 [==============================] - 6s 4ms/step - loss: 0.1145 - accuracy: 0.9708 - val_loss: 3.1186 - val_accuracy: 0.0388\n",
      "Epoch 50/50\n",
      "1510/1510 [==============================] - 6s 4ms/step - loss: 0.1133 - accuracy: 0.9709 - val_loss: 3.0286 - val_accuracy: 0.0371\n",
      "1623/1623 [==============================] - 3s 2ms/step - loss: 0.1797 - accuracy: 0.9481\n",
      "Test Accuracy: 0.9481\n"
     ]
    }
   ],
   "source": [
    "ann_model = Sequential()\n",
    "ann_model.add(Dense(64, activation='relu', input_shape=(X_train_features.shape[1],)))\n",
    "ann_model.add(Dropout(0.25))\n",
    "ann_model.add(Dense(32, activation='relu'))\n",
    "ann_model.add(Dropout(0.25))\n",
    "ann_model.add(Dense(3, activation='softmax')) \n",
    "\n",
    "ann_model.compile(optimizer='adam', loss='categorical_crossentropy', metrics=['accuracy'])\n",
    "\n",
    "history = ann_model.fit(X_train_features, to_categorical(y_res_kmeans_smote), epochs=50, batch_size=128, validation_split=0.33, verbose=1)\n",
    "\n",
    "loss, accuracy = ann_model.evaluate(X_test_features, to_categorical(y_test, num_classes=3), verbose=1)\n",
    "print(f'Test Accuracy: {accuracy:.4f}')"
   ]
  },
  {
   "cell_type": "code",
   "execution_count": 33,
   "id": "41f9bd63",
   "metadata": {},
   "outputs": [
    {
     "name": "stdout",
     "output_type": "stream",
     "text": [
      "1050/1050 [==============================] - 1s 1ms/step\n",
      "Low       31873\n",
      "High       1687\n",
      "Medium       30\n",
      "Name: pred, dtype: int64\n"
     ]
    }
   ],
   "source": [
    "x_test_sub_predicted_classes = ann_model.predict(X_test_sub_flattened)\n",
    "\n",
    "x_test_sub_predicted_classes = np.argmax(x_test_sub_predicted_classes, axis=1)\n",
    "\n",
    "predictions = pd.DataFrame()\n",
    "predictions['pred'] = x_test_sub_predicted_classes.ravel()\n",
    "\n",
    "predictions['pred'] = predictions['pred'].replace({0: 'High', 1: 'Low', 2: 'Medium'})\n",
    "\n",
    "print(predictions['pred'].value_counts())"
   ]
  },
  {
   "cell_type": "code",
   "execution_count": 34,
   "id": "dc0f99f6",
   "metadata": {},
   "outputs": [
    {
     "name": "stderr",
     "output_type": "stream",
     "text": [
      "C:\\Users\\Fuzel Shaik\\anaconda3\\lib\\site-packages\\xgboost\\core.py:160: UserWarning: [16:06:56] WARNING: C:\\buildkite-agent\\builds\\buildkite-windows-cpu-autoscaling-group-i-0b3782d1791676daf-1\\xgboost\\xgboost-ci-windows\\src\\learner.cc:742: \n",
      "Parameters: { \"verbose\" } are not used.\n",
      "\n",
      "  warnings.warn(smsg, UserWarning)\n"
     ]
    },
    {
     "name": "stdout",
     "output_type": "stream",
     "text": [
      "XGBoost Classification Report:\n",
      "              precision    recall  f1-score   support\n",
      "\n",
      "           0       0.52      0.58      0.55      2768\n",
      "           1       0.98      0.96      0.97     47285\n",
      "           2       0.35      0.47      0.40      1883\n",
      "\n",
      "    accuracy                           0.92     51936\n",
      "   macro avg       0.62      0.67      0.64     51936\n",
      "weighted avg       0.93      0.92      0.93     51936\n",
      "\n",
      "XGBoost Confusion Matrix:\n",
      "[[ 1610   466   692]\n",
      " [  980 45361   944]\n",
      " [  491   507   885]]\n"
     ]
    }
   ],
   "source": [
    "xgb_model_ups.fit(X_train_features, y_res_kmeans_smote)  \n",
    "\n",
    "xgb_predictions_ups = xgb_model_ups.predict(X_test_features)\n",
    "\n",
    "print(\"XGBoost Classification Report:\")\n",
    "print(classification_report(y_test, xgb_predictions_ups))\n",
    "print(\"XGBoost Confusion Matrix:\")\n",
    "print(confusion_matrix(y_test, xgb_predictions_ups))"
   ]
  },
  {
   "cell_type": "code",
   "execution_count": 35,
   "id": "3e9202bc",
   "metadata": {},
   "outputs": [
    {
     "name": "stdout",
     "output_type": "stream",
     "text": [
      "Low       29144\n",
      "Medium     2789\n",
      "High       1657\n",
      "Name: pred, dtype: int64\n"
     ]
    }
   ],
   "source": [
    "x_test_sub_predicted_classes = xgb_model_ups.predict(X_test_sub_flattened)\n",
    "\n",
    "predictions = pd.DataFrame()\n",
    "predictions['pred'] = x_test_sub_predicted_classes.ravel()\n",
    "\n",
    "predictions['pred'] = predictions['pred'].replace({0: 'High', 1: 'Low', 2: 'Medium'})\n",
    "\n",
    "print(predictions['pred'].value_counts())"
   ]
  },
  {
   "cell_type": "code",
   "execution_count": 36,
   "id": "1f6b342b",
   "metadata": {},
   "outputs": [],
   "source": [
    "class_distribution = y_train.value_counts().to_dict()\n",
    "\n",
    "total_samples = sum(class_distribution.values())\n",
    "class_weights = {class_label: total_samples / (len(class_distribution) * class_count) for class_label, class_count in class_distribution.items()}\n",
    "\n",
    "minority_classes = list(class_distribution.keys())\n",
    "for class_label in minority_classes:\n",
    "    class_weights[class_label] *= 5  "
   ]
  },
  {
   "cell_type": "code",
   "execution_count": 37,
   "id": "62b076aa",
   "metadata": {},
   "outputs": [
    {
     "name": "stdout",
     "output_type": "stream",
     "text": [
      "3296/3296 [==============================] - 13s 4ms/step\n"
     ]
    }
   ],
   "source": [
    "X_train_reshaped = X_train.values.reshape((X_train.shape[0], 17, 17, 1))\n",
    "\n",
    "X_train_features = feature_extractor.predict(X_train_reshaped)"
   ]
  },
  {
   "cell_type": "code",
   "execution_count": 39,
   "id": "105cb14c",
   "metadata": {},
   "outputs": [
    {
     "name": "stderr",
     "output_type": "stream",
     "text": [
      "C:\\Users\\Fuzel Shaik\\anaconda3\\lib\\site-packages\\xgboost\\core.py:160: UserWarning: [16:07:49] WARNING: C:\\buildkite-agent\\builds\\buildkite-windows-cpu-autoscaling-group-i-0b3782d1791676daf-1\\xgboost\\xgboost-ci-windows\\src\\learner.cc:742: \n",
      "Parameters: { \"class_weight\" } are not used.\n",
      "\n",
      "  warnings.warn(smsg, UserWarning)\n"
     ]
    },
    {
     "name": "stdout",
     "output_type": "stream",
     "text": [
      "XGBoost Classification Report:\n",
      "              precision    recall  f1-score   support\n",
      "\n",
      "           0       0.81      0.81      0.81      2768\n",
      "           1       0.98      1.00      0.99     47285\n",
      "           2       0.76      0.50      0.60      1883\n",
      "\n",
      "    accuracy                           0.97     51936\n",
      "   macro avg       0.85      0.77      0.80     51936\n",
      "weighted avg       0.96      0.97      0.97     51936\n",
      "\n",
      "XGBoost Confusion Matrix:\n",
      "[[ 2246   371   151]\n",
      " [   75 47072   138]\n",
      " [  452   497   934]]\n"
     ]
    }
   ],
   "source": [
    "xgb_model = XGBClassifier(class_weight = class_weights)\n",
    "\n",
    "xgb_model.fit(X_train_features, y_train.values)  \n",
    "\n",
    "xgb_predictions_ups = xgb_model.predict(X_test_features)\n",
    "\n",
    "print(\"XGBoost Classification Report:\")\n",
    "print(classification_report(y_test, xgb_predictions_ups))\n",
    "print(\"XGBoost Confusion Matrix:\")\n",
    "print(confusion_matrix(y_test, xgb_predictions_ups))"
   ]
  },
  {
   "cell_type": "code",
   "execution_count": 40,
   "id": "5d8be7c3",
   "metadata": {},
   "outputs": [
    {
     "name": "stdout",
     "output_type": "stream",
     "text": [
      "Low       32803\n",
      "High        724\n",
      "Medium       63\n",
      "Name: pred, dtype: int64\n"
     ]
    }
   ],
   "source": [
    "x_test_sub_predicted_classes = xgb_model.predict(X_test_sub_flattened)\n",
    "\n",
    "predictions = pd.DataFrame()\n",
    "predictions['pred'] = x_test_sub_predicted_classes.ravel()\n",
    "\n",
    "predictions['pred'] = predictions['pred'].replace({0: 'High', 1: 'Low', 2: 'Medium'})\n",
    "\n",
    "print(predictions['pred'].value_counts())"
   ]
  },
  {
   "cell_type": "markdown",
   "id": "abee7233",
   "metadata": {},
   "source": [
    "## PCA - Upsampling - CNN"
   ]
  },
  {
   "cell_type": "code",
   "execution_count": 116,
   "id": "35cdea4b",
   "metadata": {},
   "outputs": [],
   "source": [
    "scaler = StandardScaler()\n",
    "X_scaled = scaler.fit_transform(X)\n",
    "                               \n",
    "pca = PCA(n_components=100) \n",
    "X_pca = pca.fit_transform(X_scaled)\n",
    "\n",
    "X_train, X_test, y_train, y_test = train_test_split(pd.DataFrame(X_pca), y_int, test_size=0.2, random_state=42, shuffle=True)"
   ]
  },
  {
   "cell_type": "code",
   "execution_count": 90,
   "id": "5691cf02",
   "metadata": {},
   "outputs": [
    {
     "data": {
      "text/plain": [
       "15296     1\n",
       "141507    1\n",
       "118851    1\n",
       "147290    1\n",
       "54134     1\n",
       "         ..\n",
       "119879    1\n",
       "103694    1\n",
       "131932    1\n",
       "146867    1\n",
       "121958    1\n",
       "Length: 125903, dtype: int64"
      ]
     },
     "execution_count": 90,
     "metadata": {},
     "output_type": "execute_result"
    }
   ],
   "source": [
    "y_train"
   ]
  },
  {
   "cell_type": "code",
   "execution_count": 93,
   "id": "43fedce3",
   "metadata": {},
   "outputs": [
    {
     "name": "stdout",
     "output_type": "stream",
     "text": [
      "Model: \"sequential_6\"\n",
      "_________________________________________________________________\n",
      " Layer (type)                Output Shape              Param #   \n",
      "=================================================================\n",
      " conv2d_10 (Conv2D)          (None, 8, 8, 32)          320       \n",
      "                                                                 \n",
      " max_pooling2d_10 (MaxPoolin  (None, 4, 4, 32)         0         \n",
      " g2D)                                                            \n",
      "                                                                 \n",
      " dropout_12 (Dropout)        (None, 4, 4, 32)          0         \n",
      "                                                                 \n",
      " conv2d_11 (Conv2D)          (None, 2, 2, 64)          18496     \n",
      "                                                                 \n",
      " max_pooling2d_11 (MaxPoolin  (None, 1, 1, 64)         0         \n",
      " g2D)                                                            \n",
      "                                                                 \n",
      " dropout_13 (Dropout)        (None, 1, 1, 64)          0         \n",
      "                                                                 \n",
      " flatten_5 (Flatten)         (None, 64)                0         \n",
      "                                                                 \n",
      " dense_8 (Dense)             (None, 64)                4160      \n",
      "                                                                 \n",
      "=================================================================\n",
      "Total params: 22,976\n",
      "Trainable params: 22,976\n",
      "Non-trainable params: 0\n",
      "_________________________________________________________________\n"
     ]
    }
   ],
   "source": [
    "input_shape = (10, 10, 1)\n",
    "\n",
    "model = Sequential()\n",
    "model.add(Conv2D(32, (3, 3), activation='relu', input_shape=input_shape))\n",
    "model.add(MaxPooling2D((2, 2)))\n",
    "model.add(Dropout(0.25))\n",
    "\n",
    "model.add(Conv2D(64, (3, 3), activation='relu'))\n",
    "model.add(MaxPooling2D((2, 2)))\n",
    "model.add(Dropout(0.25))\n",
    "\n",
    "model.add(Flatten())\n",
    "\n",
    "model.add(Dense(64, activation='relu')) \n",
    "\n",
    "feature_extractor = Model(inputs=model.input, outputs=model.get_layer('dense_8').output)\n",
    "\n",
    "model.summary()"
   ]
  },
  {
   "cell_type": "code",
   "execution_count": 117,
   "id": "5f2cea01",
   "metadata": {},
   "outputs": [
    {
     "name": "stdout",
     "output_type": "stream",
     "text": [
      "12896/12896 [==============================] - 25s 2ms/step\n",
      "984/984 [==============================] - 2s 2ms/step\n"
     ]
    }
   ],
   "source": [
    "resampled_X_train, resampled_y_train = upsample(X_train,  y_train)\n",
    "\n",
    "X_train_reshaped = resampled_X_train.values.reshape((resampled_X_train.shape[0], 10, 10, 1))\n",
    "\n",
    "X_train_features = feature_extractor.predict(X_train_reshaped)\n",
    "\n",
    "X_test_reshaped = X_test.values.reshape((X_test.shape[0], 10, 10, 1))\n",
    "\n",
    "X_test_features = feature_extractor.predict(X_test_reshaped)"
   ]
  },
  {
   "cell_type": "code",
   "execution_count": 118,
   "id": "23626d78",
   "metadata": {},
   "outputs": [
    {
     "data": {
      "text/plain": [
       "(31476, 64)"
      ]
     },
     "execution_count": 118,
     "metadata": {},
     "output_type": "execute_result"
    }
   ],
   "source": [
    "X_test_features.shape"
   ]
  },
  {
   "cell_type": "code",
   "execution_count": 119,
   "id": "bd950f29",
   "metadata": {},
   "outputs": [
    {
     "name": "stderr",
     "output_type": "stream",
     "text": [
      "C:\\Users\\Fuzel Shaik\\anaconda3\\lib\\site-packages\\xgboost\\core.py:160: UserWarning: [17:20:09] WARNING: C:\\buildkite-agent\\builds\\buildkite-windows-cpu-autoscaling-group-i-0b3782d1791676daf-1\\xgboost\\xgboost-ci-windows\\src\\learner.cc:742: \n",
      "Parameters: { \"verbose\" } are not used.\n",
      "\n",
      "  warnings.warn(smsg, UserWarning)\n"
     ]
    },
    {
     "name": "stdout",
     "output_type": "stream",
     "text": [
      "XGBoost Classification Report:\n",
      "              precision    recall  f1-score   support\n",
      "\n",
      "           0       0.31      0.67      0.42      1610\n",
      "           1       0.99      0.82      0.90     28808\n",
      "           2       0.15      0.57      0.23      1058\n",
      "\n",
      "    accuracy                           0.80     31476\n",
      "   macro avg       0.48      0.69      0.52     31476\n",
      "weighted avg       0.93      0.80      0.85     31476\n",
      "\n",
      "XGBoost Confusion Matrix:\n",
      "[[ 1081    97   432]\n",
      " [ 2096 23638  3074]\n",
      " [  332   120   606]]\n"
     ]
    }
   ],
   "source": [
    "xgb_model_ups.fit(X_train_features, resampled_y_train)  \n",
    "\n",
    "xgb_predictions_ups = xgb_model_ups.predict(X_test_features)\n",
    "\n",
    "print(\"XGBoost Classification Report:\")\n",
    "print(classification_report(y_test, xgb_predictions_ups))\n",
    "print(\"XGBoost Confusion Matrix:\")\n",
    "print(confusion_matrix(y_test, xgb_predictions_ups))"
   ]
  },
  {
   "cell_type": "code",
   "execution_count": 129,
   "id": "ae89f758",
   "metadata": {},
   "outputs": [
    {
     "name": "stderr",
     "output_type": "stream",
     "text": [
      "C:\\Users\\Fuzel Shaik\\anaconda3\\lib\\site-packages\\sklearn\\neighbors\\_classification.py:228: FutureWarning: Unlike other reduction functions (e.g. `skew`, `kurtosis`), the default behavior of `mode` typically preserves the axis it acts along. In SciPy 1.11.0, this behavior will change: the default value of `keepdims` will become False, the `axis` over which the statistic is taken will be eliminated, and the value None will no longer be accepted. Set `keepdims` to True or False to avoid this warning.\n",
      "  mode, _ = stats.mode(_y[neigh_ind, k], axis=1)\n"
     ]
    },
    {
     "name": "stdout",
     "output_type": "stream",
     "text": [
      "XGBoost Classification Report:\n",
      "              precision    recall  f1-score   support\n",
      "\n",
      "           0       0.88      0.93      0.91      1610\n",
      "           1       1.00      0.99      0.99     28808\n",
      "           2       0.72      0.88      0.79      1058\n",
      "\n",
      "    accuracy                           0.98     31476\n",
      "   macro avg       0.87      0.93      0.90     31476\n",
      "weighted avg       0.98      0.98      0.98     31476\n",
      "\n",
      "XGBoost Confusion Matrix:\n",
      "[[ 1498     9   103]\n",
      " [   91 28450   267]\n",
      " [  110    16   932]]\n"
     ]
    }
   ],
   "source": [
    "knn_ups = KNeighborsClassifier(n_neighbors=5)\n",
    "\n",
    "knn_ups.fit(X_train_features, resampled_y_train)\n",
    "\n",
    "y_pred_ups = knn_ups.predict(X_test_features)\n",
    "\n",
    "print(\"XGBoost Classification Report:\")\n",
    "print(classification_report(y_test, y_pred_ups))\n",
    "print(\"XGBoost Confusion Matrix:\")\n",
    "print(confusion_matrix(y_test, y_pred_ups))"
   ]
  },
  {
   "cell_type": "code",
   "execution_count": 120,
   "id": "c40668ea",
   "metadata": {},
   "outputs": [
    {
     "data": {
      "text/plain": [
       "(33590, 289)"
      ]
     },
     "execution_count": 120,
     "metadata": {},
     "output_type": "execute_result"
    }
   ],
   "source": [
    "X_test_sub.shape"
   ]
  },
  {
   "cell_type": "code",
   "execution_count": 121,
   "id": "9a35ec86",
   "metadata": {},
   "outputs": [],
   "source": [
    "scaler = StandardScaler()\n",
    "X_test_sub_scaled = scaler.fit_transform(X_test_sub)\n",
    "                               \n",
    "pca = PCA(n_components=100) \n",
    "X_test_sub_pca = pca.fit_transform(X_test_sub_scaled)"
   ]
  },
  {
   "cell_type": "code",
   "execution_count": 123,
   "id": "39d26bb1",
   "metadata": {},
   "outputs": [
    {
     "data": {
      "text/plain": [
       "(33590, 100)"
      ]
     },
     "execution_count": 123,
     "metadata": {},
     "output_type": "execute_result"
    }
   ],
   "source": [
    "X_test_sub_pca.shape"
   ]
  },
  {
   "cell_type": "code",
   "execution_count": 124,
   "id": "a08025ba",
   "metadata": {},
   "outputs": [
    {
     "name": "stdout",
     "output_type": "stream",
     "text": [
      "1050/1050 [==============================] - 2s 2ms/step\n"
     ]
    }
   ],
   "source": [
    "X_test_sub_reshaped = X_test_sub_pca.reshape((X_test_sub_pca.shape[0], 10, 10, 1))\n",
    "\n",
    "X_test_sub_features = feature_extractor.predict(X_test_sub_reshaped)"
   ]
  },
  {
   "cell_type": "code",
   "execution_count": 125,
   "id": "c9f72e44",
   "metadata": {},
   "outputs": [
    {
     "data": {
      "text/plain": [
       "(33590, 64)"
      ]
     },
     "execution_count": 125,
     "metadata": {},
     "output_type": "execute_result"
    }
   ],
   "source": [
    "X_test_sub_features.shape"
   ]
  },
  {
   "cell_type": "code",
   "execution_count": 126,
   "id": "9e5afcd6",
   "metadata": {},
   "outputs": [
    {
     "name": "stdout",
     "output_type": "stream",
     "text": [
      "Low       24365\n",
      "Medium     4669\n",
      "High       4556\n",
      "Name: pred, dtype: int64\n"
     ]
    }
   ],
   "source": [
    "x_test_sub_predicted_classes = xgb_model_ups.predict(X_test_sub_features)\n",
    "\n",
    "predictions = pd.DataFrame()\n",
    "predictions['pred'] = x_test_sub_predicted_classes.ravel()\n",
    "\n",
    "predictions['pred'] = predictions['pred'].replace({0: 'High', 1: 'Low', 2: 'Medium'})\n",
    "\n",
    "print(predictions['pred'].value_counts())"
   ]
  },
  {
   "cell_type": "code",
   "execution_count": 127,
   "id": "364e2cea",
   "metadata": {},
   "outputs": [],
   "source": [
    "predictions.to_csv('prediction.csv',index=False)"
   ]
  },
  {
   "cell_type": "code",
   "execution_count": 130,
   "id": "99e41b1e",
   "metadata": {},
   "outputs": [
    {
     "name": "stderr",
     "output_type": "stream",
     "text": [
      "C:\\Users\\Fuzel Shaik\\anaconda3\\lib\\site-packages\\sklearn\\neighbors\\_classification.py:228: FutureWarning: Unlike other reduction functions (e.g. `skew`, `kurtosis`), the default behavior of `mode` typically preserves the axis it acts along. In SciPy 1.11.0, this behavior will change: the default value of `keepdims` will become False, the `axis` over which the statistic is taken will be eliminated, and the value None will no longer be accepted. Set `keepdims` to True or False to avoid this warning.\n",
      "  mode, _ = stats.mode(_y[neigh_ind, k], axis=1)\n"
     ]
    },
    {
     "name": "stdout",
     "output_type": "stream",
     "text": [
      "Low       29604\n",
      "High       2297\n",
      "Medium     1689\n",
      "Name: pred, dtype: int64\n"
     ]
    }
   ],
   "source": [
    "x_test_sub_predicted_classes = knn_ups.predict(X_test_sub_features)\n",
    "\n",
    "predictions = pd.DataFrame()\n",
    "predictions['pred'] = x_test_sub_predicted_classes.ravel()\n",
    "\n",
    "predictions['pred'] = predictions['pred'].replace({0: 'High', 1: 'Low', 2: 'Medium'})\n",
    "\n",
    "print(predictions['pred'].value_counts())"
   ]
  },
  {
   "cell_type": "code",
   "execution_count": null,
   "id": "76d3978a",
   "metadata": {},
   "outputs": [],
   "source": []
  }
 ],
 "metadata": {
  "kernelspec": {
   "display_name": "Python 3 (ipykernel)",
   "language": "python",
   "name": "python3"
  },
  "language_info": {
   "codemirror_mode": {
    "name": "ipython",
    "version": 3
   },
   "file_extension": ".py",
   "mimetype": "text/x-python",
   "name": "python",
   "nbconvert_exporter": "python",
   "pygments_lexer": "ipython3",
   "version": "3.9.13"
  }
 },
 "nbformat": 4,
 "nbformat_minor": 5
}
